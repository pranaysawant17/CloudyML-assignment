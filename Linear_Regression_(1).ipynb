{
  "nbformat": 4,
  "nbformat_minor": 0,
  "metadata": {
    "kernelspec": {
      "display_name": "Python 3",
      "language": "python",
      "name": "python3"
    },
    "language_info": {
      "codemirror_mode": {
        "name": "ipython",
        "version": 3
      },
      "file_extension": ".py",
      "mimetype": "text/x-python",
      "name": "python",
      "nbconvert_exporter": "python",
      "pygments_lexer": "ipython3",
      "version": "3.7.6"
    },
    "colab": {
      "name": "Linear_Regression (1).ipynb",
      "provenance": [],
      "collapsed_sections": [
        "AzYKorxH0w67",
        "BEJUfkWG0w7P"
      ],
      "include_colab_link": true
    }
  },
  "cells": [
    {
      "cell_type": "markdown",
      "metadata": {
        "id": "view-in-github",
        "colab_type": "text"
      },
      "source": [
        "<a href=\"https://colab.research.google.com/github/pranaysawant17/CloudyML-assignment/blob/main/Linear_Regression_(1).ipynb\" target=\"_parent\"><img src=\"https://colab.research.google.com/assets/colab-badge.svg\" alt=\"Open In Colab\"/></a>"
      ]
    },
    {
      "cell_type": "markdown",
      "metadata": {
        "id": "s1aByW200w6R"
      },
      "source": [
        "#  <center><u>LINEAR REGRESSION<u><center>"
      ]
    },
    {
      "cell_type": "markdown",
      "metadata": {
        "id": "n2WGTXS-0w6Z"
      },
      "source": [
        "<p style='text-align: right;'> Total points =51</p>\n"
      ]
    },
    {
      "cell_type": "markdown",
      "metadata": {
        "id": "JOR1QLNy0w6b"
      },
      "source": [
        "###  Linear Regression\n",
        "\n",
        "\n",
        "Linear Regression is a statistical technique which is used to find the linear relationship between dependent and one or more independent variables. This technique is applicable for Supervised learning Regression problems where we try to predict a continuous variable.\n",
        "\n",
        "\n",
        "Linear Regression can be further classified into two types – Simple and Multiple Linear Regression. It is the simplest form of Linear Regression where we fit a straight line to the data.\n",
        "\n"
      ]
    },
    {
      "cell_type": "markdown",
      "metadata": {
        "id": "posmQtq-0w6d"
      },
      "source": [
        "###  Simple Linear Regression (SLR)\n",
        "\n",
        "Simple Linear Regression (or SLR) is the simplest model in machine learning. It models the linear relationship between the independent and dependent variables. \n",
        "\n",
        "This assignment is based on the TV and Sales data .\n",
        "There is one independent or input variable which represents the TV data and is denoted by X. Similarly, there is one dependent or output variable which represents the Sales and is denoted by y. We want to build a linear relationship between these variables. This linear relationship can be modelled by mathematical equation of the form:-\n",
        "\t\t\t\t \n",
        "                 \n",
        "                 Y = β0   + β1*X    -------------   (1)\n",
        "                 \n",
        "\n",
        "In this equation, X and Y are called independent and dependent variables respectively,\n",
        "\n",
        "β1 is the coefficient for independent variable and\n",
        "\n",
        "β0 is the constant term.\n",
        "\n",
        "β0 and β1 are called parameters of the model.\n",
        " \n",
        "\n",
        "\n",
        "For simplicity, we can compare the above equation with the basic line equation of the form:-\n",
        " \n",
        "                   y = ax + b       ----------------- (2)\n",
        "\n",
        "We can see that \n",
        "\n",
        "slope of the line is given by, a =  β1,  and\n",
        "\n",
        "intercept of the line by b =  β0. \n",
        "\n",
        "\n",
        "In this Simple Linear Regression model, we want to fit a line which estimates the linear relationship between X and Y. So, the question of fitting reduces to estimating the parameters of the model β0 and β1. \n",
        "\n",
        " \n",
        "\n",
        "## Ordinary Least Square Method\n",
        "\n",
        "The TV and Sales data are given by X and y respectively. We can draw a scatter plot between X and y which shows the relationship between them.\n",
        "\n",
        " \n",
        "\n",
        "Now, our task is to find a line which best fits this scatter plot. This line will help us to predict the value of any Target variable for any given Feature variable. This line is called **Regression line**. \n",
        "\n",
        "\n",
        "We can define an error function for any line. Then, the regression line is the one which minimizes the error function. Such an error function is also called a **Cost function**. \n",
        "\n",
        "By below chart you might understand more clearly\n",
        "\n",
        "![image.png](attachment:image.png)\n",
        "\n"
      ]
    },
    {
      "cell_type": "markdown",
      "metadata": {
        "id": "xkjaWXyE0w6f"
      },
      "source": [
        "Understanding the Data\n",
        "Let's start with the following steps:\n",
        "\n",
        "1. Importing data using the pandas library\n",
        "2. Understanding the structure of the data"
      ]
    },
    {
      "cell_type": "markdown",
      "metadata": {
        "id": "h4Q0Exxa0w6h"
      },
      "source": [
        "<p style='text-align: right;'> 2*2=4 points</p>\n"
      ]
    },
    {
      "cell_type": "code",
      "metadata": {
        "id": "cmWywAgK0w6i"
      },
      "source": [
        "# Import necessary libraries\n",
        "\n",
        "import numpy as np\n",
        "import pandas as pd\n",
        "import matplotlib.pyplot as plt\n",
        "import seaborn as sns\n",
        "%matplotlib inline\n",
        "# import %matplotlib inline to visualise in the notebook"
      ],
      "execution_count": 1,
      "outputs": []
    },
    {
      "cell_type": "code",
      "source": [
        "from google.colab import drive\n",
        "drive.mount('/content/drive')"
      ],
      "metadata": {
        "colab": {
          "base_uri": "https://localhost:8080/"
        },
        "id": "UqUZ6e75IKSM",
        "outputId": "8c242f5d-df2f-4d27-bced-84313d85a339"
      },
      "execution_count": 3,
      "outputs": [
        {
          "output_type": "stream",
          "name": "stdout",
          "text": [
            "Mounted at /content/drive\n"
          ]
        }
      ]
    },
    {
      "cell_type": "markdown",
      "metadata": {
        "id": "2bRmQwzv0w6m"
      },
      "source": [
        "## About the dataset\n",
        "\n",
        "Let's import data from the following url:-\n",
        "\n",
        "https://www.kaggle.com/ashydv/advertising-dataset\n",
        "\n",
        "\n",
        "\n",
        "\n"
      ]
    },
    {
      "cell_type": "markdown",
      "metadata": {
        "id": "_kCfRI2c0w6n"
      },
      "source": [
        "<p style='text-align: right;'> 2*6 = 12 points</p>\n"
      ]
    },
    {
      "cell_type": "code",
      "metadata": {
        "id": "lm5pYg3N0w6p",
        "colab": {
          "base_uri": "https://localhost:8080/",
          "height": 206
        },
        "outputId": "8a7d73d9-6dd4-4403-e4ab-d1d91cdc47e0"
      },
      "source": [
        "# Import the data as df\n",
        "\n",
        "df = pd.read_csv(\"/content/drive/MyDrive/advertising.csv\")\n",
        "df.head()"
      ],
      "execution_count": 7,
      "outputs": [
        {
          "output_type": "execute_result",
          "data": {
            "text/html": [
              "\n",
              "  <div id=\"df-7731d241-3e72-4f40-a6bd-369f10c6252e\">\n",
              "    <div class=\"colab-df-container\">\n",
              "      <div>\n",
              "<style scoped>\n",
              "    .dataframe tbody tr th:only-of-type {\n",
              "        vertical-align: middle;\n",
              "    }\n",
              "\n",
              "    .dataframe tbody tr th {\n",
              "        vertical-align: top;\n",
              "    }\n",
              "\n",
              "    .dataframe thead th {\n",
              "        text-align: right;\n",
              "    }\n",
              "</style>\n",
              "<table border=\"1\" class=\"dataframe\">\n",
              "  <thead>\n",
              "    <tr style=\"text-align: right;\">\n",
              "      <th></th>\n",
              "      <th>TV</th>\n",
              "      <th>Radio</th>\n",
              "      <th>Newspaper</th>\n",
              "      <th>Sales</th>\n",
              "    </tr>\n",
              "  </thead>\n",
              "  <tbody>\n",
              "    <tr>\n",
              "      <th>0</th>\n",
              "      <td>230.1</td>\n",
              "      <td>37.8</td>\n",
              "      <td>69.2</td>\n",
              "      <td>22.1</td>\n",
              "    </tr>\n",
              "    <tr>\n",
              "      <th>1</th>\n",
              "      <td>44.5</td>\n",
              "      <td>39.3</td>\n",
              "      <td>45.1</td>\n",
              "      <td>10.4</td>\n",
              "    </tr>\n",
              "    <tr>\n",
              "      <th>2</th>\n",
              "      <td>17.2</td>\n",
              "      <td>45.9</td>\n",
              "      <td>69.3</td>\n",
              "      <td>12.0</td>\n",
              "    </tr>\n",
              "    <tr>\n",
              "      <th>3</th>\n",
              "      <td>151.5</td>\n",
              "      <td>41.3</td>\n",
              "      <td>58.5</td>\n",
              "      <td>16.5</td>\n",
              "    </tr>\n",
              "    <tr>\n",
              "      <th>4</th>\n",
              "      <td>180.8</td>\n",
              "      <td>10.8</td>\n",
              "      <td>58.4</td>\n",
              "      <td>17.9</td>\n",
              "    </tr>\n",
              "  </tbody>\n",
              "</table>\n",
              "</div>\n",
              "      <button class=\"colab-df-convert\" onclick=\"convertToInteractive('df-7731d241-3e72-4f40-a6bd-369f10c6252e')\"\n",
              "              title=\"Convert this dataframe to an interactive table.\"\n",
              "              style=\"display:none;\">\n",
              "        \n",
              "  <svg xmlns=\"http://www.w3.org/2000/svg\" height=\"24px\"viewBox=\"0 0 24 24\"\n",
              "       width=\"24px\">\n",
              "    <path d=\"M0 0h24v24H0V0z\" fill=\"none\"/>\n",
              "    <path d=\"M18.56 5.44l.94 2.06.94-2.06 2.06-.94-2.06-.94-.94-2.06-.94 2.06-2.06.94zm-11 1L8.5 8.5l.94-2.06 2.06-.94-2.06-.94L8.5 2.5l-.94 2.06-2.06.94zm10 10l.94 2.06.94-2.06 2.06-.94-2.06-.94-.94-2.06-.94 2.06-2.06.94z\"/><path d=\"M17.41 7.96l-1.37-1.37c-.4-.4-.92-.59-1.43-.59-.52 0-1.04.2-1.43.59L10.3 9.45l-7.72 7.72c-.78.78-.78 2.05 0 2.83L4 21.41c.39.39.9.59 1.41.59.51 0 1.02-.2 1.41-.59l7.78-7.78 2.81-2.81c.8-.78.8-2.07 0-2.86zM5.41 20L4 18.59l7.72-7.72 1.47 1.35L5.41 20z\"/>\n",
              "  </svg>\n",
              "      </button>\n",
              "      \n",
              "  <style>\n",
              "    .colab-df-container {\n",
              "      display:flex;\n",
              "      flex-wrap:wrap;\n",
              "      gap: 12px;\n",
              "    }\n",
              "\n",
              "    .colab-df-convert {\n",
              "      background-color: #E8F0FE;\n",
              "      border: none;\n",
              "      border-radius: 50%;\n",
              "      cursor: pointer;\n",
              "      display: none;\n",
              "      fill: #1967D2;\n",
              "      height: 32px;\n",
              "      padding: 0 0 0 0;\n",
              "      width: 32px;\n",
              "    }\n",
              "\n",
              "    .colab-df-convert:hover {\n",
              "      background-color: #E2EBFA;\n",
              "      box-shadow: 0px 1px 2px rgba(60, 64, 67, 0.3), 0px 1px 3px 1px rgba(60, 64, 67, 0.15);\n",
              "      fill: #174EA6;\n",
              "    }\n",
              "\n",
              "    [theme=dark] .colab-df-convert {\n",
              "      background-color: #3B4455;\n",
              "      fill: #D2E3FC;\n",
              "    }\n",
              "\n",
              "    [theme=dark] .colab-df-convert:hover {\n",
              "      background-color: #434B5C;\n",
              "      box-shadow: 0px 1px 3px 1px rgba(0, 0, 0, 0.15);\n",
              "      filter: drop-shadow(0px 1px 2px rgba(0, 0, 0, 0.3));\n",
              "      fill: #FFFFFF;\n",
              "    }\n",
              "  </style>\n",
              "\n",
              "      <script>\n",
              "        const buttonEl =\n",
              "          document.querySelector('#df-7731d241-3e72-4f40-a6bd-369f10c6252e button.colab-df-convert');\n",
              "        buttonEl.style.display =\n",
              "          google.colab.kernel.accessAllowed ? 'block' : 'none';\n",
              "\n",
              "        async function convertToInteractive(key) {\n",
              "          const element = document.querySelector('#df-7731d241-3e72-4f40-a6bd-369f10c6252e');\n",
              "          const dataTable =\n",
              "            await google.colab.kernel.invokeFunction('convertToInteractive',\n",
              "                                                     [key], {});\n",
              "          if (!dataTable) return;\n",
              "\n",
              "          const docLinkHtml = 'Like what you see? Visit the ' +\n",
              "            '<a target=\"_blank\" href=https://colab.research.google.com/notebooks/data_table.ipynb>data table notebook</a>'\n",
              "            + ' to learn more about interactive tables.';\n",
              "          element.innerHTML = '';\n",
              "          dataTable['output_type'] = 'display_data';\n",
              "          await google.colab.output.renderOutput(dataTable, element);\n",
              "          const docLink = document.createElement('div');\n",
              "          docLink.innerHTML = docLinkHtml;\n",
              "          element.appendChild(docLink);\n",
              "        }\n",
              "      </script>\n",
              "    </div>\n",
              "  </div>\n",
              "  "
            ],
            "text/plain": [
              "      TV  Radio  Newspaper  Sales\n",
              "0  230.1   37.8       69.2   22.1\n",
              "1   44.5   39.3       45.1   10.4\n",
              "2   17.2   45.9       69.3   12.0\n",
              "3  151.5   41.3       58.5   16.5\n",
              "4  180.8   10.8       58.4   17.9"
            ]
          },
          "metadata": {},
          "execution_count": 7
        }
      ]
    },
    {
      "cell_type": "code",
      "metadata": {
        "id": "RnftQiHP0w6q"
      },
      "source": [
        "#drop radio and newspaper column from df\n",
        "df.drop(columns=['Radio', 'Newspaper'], inplace = True )\n"
      ],
      "execution_count": 8,
      "outputs": []
    },
    {
      "cell_type": "markdown",
      "metadata": {
        "id": "uKCM1DSL0w6r"
      },
      "source": [
        "### pandas shape attribute\n",
        "\n",
        "The shape attribute of the pandas dataframe gives the dimensions of the dataframe."
      ]
    },
    {
      "cell_type": "code",
      "metadata": {
        "id": "ObibRuJm0w6s",
        "outputId": "8ef0bb10-412a-4562-c8f9-365ac8188dc1",
        "colab": {
          "base_uri": "https://localhost:8080/"
        }
      },
      "source": [
        "# View the dimensions of df\n",
        "\n",
        "df.shape"
      ],
      "execution_count": 10,
      "outputs": [
        {
          "output_type": "execute_result",
          "data": {
            "text/plain": [
              "(200, 2)"
            ]
          },
          "metadata": {},
          "execution_count": 10
        }
      ]
    },
    {
      "cell_type": "markdown",
      "metadata": {
        "id": "3A2JSfxz0w6u"
      },
      "source": [
        "### pandas head() method\n"
      ]
    },
    {
      "cell_type": "code",
      "metadata": {
        "id": "z5tLbWkv0w6u",
        "outputId": "9b5216ff-8208-4dd2-a639-d4ed0ec04952",
        "colab": {
          "base_uri": "https://localhost:8080/",
          "height": 206
        }
      },
      "source": [
        "# View the top 5 rows of df\n",
        "df.head()\n"
      ],
      "execution_count": 11,
      "outputs": [
        {
          "output_type": "execute_result",
          "data": {
            "text/html": [
              "\n",
              "  <div id=\"df-f4eedda6-e423-4a5e-b842-77b63dc7c377\">\n",
              "    <div class=\"colab-df-container\">\n",
              "      <div>\n",
              "<style scoped>\n",
              "    .dataframe tbody tr th:only-of-type {\n",
              "        vertical-align: middle;\n",
              "    }\n",
              "\n",
              "    .dataframe tbody tr th {\n",
              "        vertical-align: top;\n",
              "    }\n",
              "\n",
              "    .dataframe thead th {\n",
              "        text-align: right;\n",
              "    }\n",
              "</style>\n",
              "<table border=\"1\" class=\"dataframe\">\n",
              "  <thead>\n",
              "    <tr style=\"text-align: right;\">\n",
              "      <th></th>\n",
              "      <th>TV</th>\n",
              "      <th>Sales</th>\n",
              "    </tr>\n",
              "  </thead>\n",
              "  <tbody>\n",
              "    <tr>\n",
              "      <th>0</th>\n",
              "      <td>230.1</td>\n",
              "      <td>22.1</td>\n",
              "    </tr>\n",
              "    <tr>\n",
              "      <th>1</th>\n",
              "      <td>44.5</td>\n",
              "      <td>10.4</td>\n",
              "    </tr>\n",
              "    <tr>\n",
              "      <th>2</th>\n",
              "      <td>17.2</td>\n",
              "      <td>12.0</td>\n",
              "    </tr>\n",
              "    <tr>\n",
              "      <th>3</th>\n",
              "      <td>151.5</td>\n",
              "      <td>16.5</td>\n",
              "    </tr>\n",
              "    <tr>\n",
              "      <th>4</th>\n",
              "      <td>180.8</td>\n",
              "      <td>17.9</td>\n",
              "    </tr>\n",
              "  </tbody>\n",
              "</table>\n",
              "</div>\n",
              "      <button class=\"colab-df-convert\" onclick=\"convertToInteractive('df-f4eedda6-e423-4a5e-b842-77b63dc7c377')\"\n",
              "              title=\"Convert this dataframe to an interactive table.\"\n",
              "              style=\"display:none;\">\n",
              "        \n",
              "  <svg xmlns=\"http://www.w3.org/2000/svg\" height=\"24px\"viewBox=\"0 0 24 24\"\n",
              "       width=\"24px\">\n",
              "    <path d=\"M0 0h24v24H0V0z\" fill=\"none\"/>\n",
              "    <path d=\"M18.56 5.44l.94 2.06.94-2.06 2.06-.94-2.06-.94-.94-2.06-.94 2.06-2.06.94zm-11 1L8.5 8.5l.94-2.06 2.06-.94-2.06-.94L8.5 2.5l-.94 2.06-2.06.94zm10 10l.94 2.06.94-2.06 2.06-.94-2.06-.94-.94-2.06-.94 2.06-2.06.94z\"/><path d=\"M17.41 7.96l-1.37-1.37c-.4-.4-.92-.59-1.43-.59-.52 0-1.04.2-1.43.59L10.3 9.45l-7.72 7.72c-.78.78-.78 2.05 0 2.83L4 21.41c.39.39.9.59 1.41.59.51 0 1.02-.2 1.41-.59l7.78-7.78 2.81-2.81c.8-.78.8-2.07 0-2.86zM5.41 20L4 18.59l7.72-7.72 1.47 1.35L5.41 20z\"/>\n",
              "  </svg>\n",
              "      </button>\n",
              "      \n",
              "  <style>\n",
              "    .colab-df-container {\n",
              "      display:flex;\n",
              "      flex-wrap:wrap;\n",
              "      gap: 12px;\n",
              "    }\n",
              "\n",
              "    .colab-df-convert {\n",
              "      background-color: #E8F0FE;\n",
              "      border: none;\n",
              "      border-radius: 50%;\n",
              "      cursor: pointer;\n",
              "      display: none;\n",
              "      fill: #1967D2;\n",
              "      height: 32px;\n",
              "      padding: 0 0 0 0;\n",
              "      width: 32px;\n",
              "    }\n",
              "\n",
              "    .colab-df-convert:hover {\n",
              "      background-color: #E2EBFA;\n",
              "      box-shadow: 0px 1px 2px rgba(60, 64, 67, 0.3), 0px 1px 3px 1px rgba(60, 64, 67, 0.15);\n",
              "      fill: #174EA6;\n",
              "    }\n",
              "\n",
              "    [theme=dark] .colab-df-convert {\n",
              "      background-color: #3B4455;\n",
              "      fill: #D2E3FC;\n",
              "    }\n",
              "\n",
              "    [theme=dark] .colab-df-convert:hover {\n",
              "      background-color: #434B5C;\n",
              "      box-shadow: 0px 1px 3px 1px rgba(0, 0, 0, 0.15);\n",
              "      filter: drop-shadow(0px 1px 2px rgba(0, 0, 0, 0.3));\n",
              "      fill: #FFFFFF;\n",
              "    }\n",
              "  </style>\n",
              "\n",
              "      <script>\n",
              "        const buttonEl =\n",
              "          document.querySelector('#df-f4eedda6-e423-4a5e-b842-77b63dc7c377 button.colab-df-convert');\n",
              "        buttonEl.style.display =\n",
              "          google.colab.kernel.accessAllowed ? 'block' : 'none';\n",
              "\n",
              "        async function convertToInteractive(key) {\n",
              "          const element = document.querySelector('#df-f4eedda6-e423-4a5e-b842-77b63dc7c377');\n",
              "          const dataTable =\n",
              "            await google.colab.kernel.invokeFunction('convertToInteractive',\n",
              "                                                     [key], {});\n",
              "          if (!dataTable) return;\n",
              "\n",
              "          const docLinkHtml = 'Like what you see? Visit the ' +\n",
              "            '<a target=\"_blank\" href=https://colab.research.google.com/notebooks/data_table.ipynb>data table notebook</a>'\n",
              "            + ' to learn more about interactive tables.';\n",
              "          element.innerHTML = '';\n",
              "          dataTable['output_type'] = 'display_data';\n",
              "          await google.colab.output.renderOutput(dataTable, element);\n",
              "          const docLink = document.createElement('div');\n",
              "          docLink.innerHTML = docLinkHtml;\n",
              "          element.appendChild(docLink);\n",
              "        }\n",
              "      </script>\n",
              "    </div>\n",
              "  </div>\n",
              "  "
            ],
            "text/plain": [
              "      TV  Sales\n",
              "0  230.1   22.1\n",
              "1   44.5   10.4\n",
              "2   17.2   12.0\n",
              "3  151.5   16.5\n",
              "4  180.8   17.9"
            ]
          },
          "metadata": {},
          "execution_count": 11
        }
      ]
    },
    {
      "cell_type": "markdown",
      "metadata": {
        "id": "gpRypyAQ0w6v"
      },
      "source": [
        "### pandas info() method"
      ]
    },
    {
      "cell_type": "code",
      "metadata": {
        "id": "BpgfBwNg0w6w",
        "outputId": "83141381-7ef3-4166-ee5c-ffbdbb0347c9",
        "colab": {
          "base_uri": "https://localhost:8080/"
        }
      },
      "source": [
        "# View dataframe summary\n",
        "df.info()\n"
      ],
      "execution_count": 12,
      "outputs": [
        {
          "output_type": "stream",
          "name": "stdout",
          "text": [
            "<class 'pandas.core.frame.DataFrame'>\n",
            "RangeIndex: 200 entries, 0 to 199\n",
            "Data columns (total 2 columns):\n",
            " #   Column  Non-Null Count  Dtype  \n",
            "---  ------  --------------  -----  \n",
            " 0   TV      200 non-null    float64\n",
            " 1   Sales   200 non-null    float64\n",
            "dtypes: float64(2)\n",
            "memory usage: 3.2 KB\n"
          ]
        }
      ]
    },
    {
      "cell_type": "markdown",
      "metadata": {
        "id": "Yg6gE8Tz0w6x"
      },
      "source": [
        "### pandas describe() method"
      ]
    },
    {
      "cell_type": "code",
      "metadata": {
        "id": "PRi2wqCv0w6x",
        "outputId": "b01698c0-243a-4387-f7ea-b7e0ee19d51f",
        "colab": {
          "base_uri": "https://localhost:8080/",
          "height": 300
        }
      },
      "source": [
        "# View descriptive statistics\n",
        "\n",
        "df.describe()"
      ],
      "execution_count": 13,
      "outputs": [
        {
          "output_type": "execute_result",
          "data": {
            "text/html": [
              "\n",
              "  <div id=\"df-81f7e426-6198-4734-8b9e-b7cfdcdcc533\">\n",
              "    <div class=\"colab-df-container\">\n",
              "      <div>\n",
              "<style scoped>\n",
              "    .dataframe tbody tr th:only-of-type {\n",
              "        vertical-align: middle;\n",
              "    }\n",
              "\n",
              "    .dataframe tbody tr th {\n",
              "        vertical-align: top;\n",
              "    }\n",
              "\n",
              "    .dataframe thead th {\n",
              "        text-align: right;\n",
              "    }\n",
              "</style>\n",
              "<table border=\"1\" class=\"dataframe\">\n",
              "  <thead>\n",
              "    <tr style=\"text-align: right;\">\n",
              "      <th></th>\n",
              "      <th>TV</th>\n",
              "      <th>Sales</th>\n",
              "    </tr>\n",
              "  </thead>\n",
              "  <tbody>\n",
              "    <tr>\n",
              "      <th>count</th>\n",
              "      <td>200.000000</td>\n",
              "      <td>200.000000</td>\n",
              "    </tr>\n",
              "    <tr>\n",
              "      <th>mean</th>\n",
              "      <td>147.042500</td>\n",
              "      <td>15.130500</td>\n",
              "    </tr>\n",
              "    <tr>\n",
              "      <th>std</th>\n",
              "      <td>85.854236</td>\n",
              "      <td>5.283892</td>\n",
              "    </tr>\n",
              "    <tr>\n",
              "      <th>min</th>\n",
              "      <td>0.700000</td>\n",
              "      <td>1.600000</td>\n",
              "    </tr>\n",
              "    <tr>\n",
              "      <th>25%</th>\n",
              "      <td>74.375000</td>\n",
              "      <td>11.000000</td>\n",
              "    </tr>\n",
              "    <tr>\n",
              "      <th>50%</th>\n",
              "      <td>149.750000</td>\n",
              "      <td>16.000000</td>\n",
              "    </tr>\n",
              "    <tr>\n",
              "      <th>75%</th>\n",
              "      <td>218.825000</td>\n",
              "      <td>19.050000</td>\n",
              "    </tr>\n",
              "    <tr>\n",
              "      <th>max</th>\n",
              "      <td>296.400000</td>\n",
              "      <td>27.000000</td>\n",
              "    </tr>\n",
              "  </tbody>\n",
              "</table>\n",
              "</div>\n",
              "      <button class=\"colab-df-convert\" onclick=\"convertToInteractive('df-81f7e426-6198-4734-8b9e-b7cfdcdcc533')\"\n",
              "              title=\"Convert this dataframe to an interactive table.\"\n",
              "              style=\"display:none;\">\n",
              "        \n",
              "  <svg xmlns=\"http://www.w3.org/2000/svg\" height=\"24px\"viewBox=\"0 0 24 24\"\n",
              "       width=\"24px\">\n",
              "    <path d=\"M0 0h24v24H0V0z\" fill=\"none\"/>\n",
              "    <path d=\"M18.56 5.44l.94 2.06.94-2.06 2.06-.94-2.06-.94-.94-2.06-.94 2.06-2.06.94zm-11 1L8.5 8.5l.94-2.06 2.06-.94-2.06-.94L8.5 2.5l-.94 2.06-2.06.94zm10 10l.94 2.06.94-2.06 2.06-.94-2.06-.94-.94-2.06-.94 2.06-2.06.94z\"/><path d=\"M17.41 7.96l-1.37-1.37c-.4-.4-.92-.59-1.43-.59-.52 0-1.04.2-1.43.59L10.3 9.45l-7.72 7.72c-.78.78-.78 2.05 0 2.83L4 21.41c.39.39.9.59 1.41.59.51 0 1.02-.2 1.41-.59l7.78-7.78 2.81-2.81c.8-.78.8-2.07 0-2.86zM5.41 20L4 18.59l7.72-7.72 1.47 1.35L5.41 20z\"/>\n",
              "  </svg>\n",
              "      </button>\n",
              "      \n",
              "  <style>\n",
              "    .colab-df-container {\n",
              "      display:flex;\n",
              "      flex-wrap:wrap;\n",
              "      gap: 12px;\n",
              "    }\n",
              "\n",
              "    .colab-df-convert {\n",
              "      background-color: #E8F0FE;\n",
              "      border: none;\n",
              "      border-radius: 50%;\n",
              "      cursor: pointer;\n",
              "      display: none;\n",
              "      fill: #1967D2;\n",
              "      height: 32px;\n",
              "      padding: 0 0 0 0;\n",
              "      width: 32px;\n",
              "    }\n",
              "\n",
              "    .colab-df-convert:hover {\n",
              "      background-color: #E2EBFA;\n",
              "      box-shadow: 0px 1px 2px rgba(60, 64, 67, 0.3), 0px 1px 3px 1px rgba(60, 64, 67, 0.15);\n",
              "      fill: #174EA6;\n",
              "    }\n",
              "\n",
              "    [theme=dark] .colab-df-convert {\n",
              "      background-color: #3B4455;\n",
              "      fill: #D2E3FC;\n",
              "    }\n",
              "\n",
              "    [theme=dark] .colab-df-convert:hover {\n",
              "      background-color: #434B5C;\n",
              "      box-shadow: 0px 1px 3px 1px rgba(0, 0, 0, 0.15);\n",
              "      filter: drop-shadow(0px 1px 2px rgba(0, 0, 0, 0.3));\n",
              "      fill: #FFFFFF;\n",
              "    }\n",
              "  </style>\n",
              "\n",
              "      <script>\n",
              "        const buttonEl =\n",
              "          document.querySelector('#df-81f7e426-6198-4734-8b9e-b7cfdcdcc533 button.colab-df-convert');\n",
              "        buttonEl.style.display =\n",
              "          google.colab.kernel.accessAllowed ? 'block' : 'none';\n",
              "\n",
              "        async function convertToInteractive(key) {\n",
              "          const element = document.querySelector('#df-81f7e426-6198-4734-8b9e-b7cfdcdcc533');\n",
              "          const dataTable =\n",
              "            await google.colab.kernel.invokeFunction('convertToInteractive',\n",
              "                                                     [key], {});\n",
              "          if (!dataTable) return;\n",
              "\n",
              "          const docLinkHtml = 'Like what you see? Visit the ' +\n",
              "            '<a target=\"_blank\" href=https://colab.research.google.com/notebooks/data_table.ipynb>data table notebook</a>'\n",
              "            + ' to learn more about interactive tables.';\n",
              "          element.innerHTML = '';\n",
              "          dataTable['output_type'] = 'display_data';\n",
              "          await google.colab.output.renderOutput(dataTable, element);\n",
              "          const docLink = document.createElement('div');\n",
              "          docLink.innerHTML = docLinkHtml;\n",
              "          element.appendChild(docLink);\n",
              "        }\n",
              "      </script>\n",
              "    </div>\n",
              "  </div>\n",
              "  "
            ],
            "text/plain": [
              "               TV       Sales\n",
              "count  200.000000  200.000000\n",
              "mean   147.042500   15.130500\n",
              "std     85.854236    5.283892\n",
              "min      0.700000    1.600000\n",
              "25%     74.375000   11.000000\n",
              "50%    149.750000   16.000000\n",
              "75%    218.825000   19.050000\n",
              "max    296.400000   27.000000"
            ]
          },
          "metadata": {},
          "execution_count": 13
        }
      ]
    },
    {
      "cell_type": "markdown",
      "metadata": {
        "id": "7G418lBi0w6y"
      },
      "source": [
        "## Independent and Dependent Variables\n",
        "\n",
        "\n",
        "### Independent variable\n",
        "\n",
        "Independent variable is also called Input variable and is denoted by X. In practical applications, independent variable is also called Feature variable or Predictor variable. We can denote it as:-\n",
        "\n",
        "Independent or Input variable (X) = Feature variable = Predictor variable \n",
        "\n",
        "\n",
        "### Dependent variable\n",
        "\n",
        "Dependent variable is also called Output variable and is denoted by y. \n",
        "\n",
        "Dependent variable is also called Target variable or Response variable. It can be denoted it as follows:-\n",
        "\n",
        "Dependent or Output variable (y) = Target variable = Response variable\n",
        "\n",
        "\n",
        "\n",
        "Reference :https://youtu.be/XZLQwZ0hs0A\n"
      ]
    },
    {
      "cell_type": "markdown",
      "metadata": {
        "id": "nzOL4oU50w6z"
      },
      "source": [
        "<p style='text-align: right;'> 2 points</p>\n"
      ]
    },
    {
      "cell_type": "code",
      "metadata": {
        "id": "kIRoDrhX0w6z"
      },
      "source": [
        "# Declare feature variable and target variable\n",
        "# TV and Sales data values are given by X and y respectively.\n",
        "# Values attribute of pandas dataframe returns the numpy arrays.\n",
        "X = df.drop('Sales', axis =1)\n",
        "Y = df.drop('TV', axis =1)"
      ],
      "execution_count": 36,
      "outputs": []
    },
    {
      "cell_type": "code",
      "source": [
        "X"
      ],
      "metadata": {
        "colab": {
          "base_uri": "https://localhost:8080/",
          "height": 424
        },
        "id": "wV5SA3p5M7jE",
        "outputId": "1ae70c14-ea39-4c41-cc77-61aa73d10c7c"
      },
      "execution_count": 26,
      "outputs": [
        {
          "output_type": "execute_result",
          "data": {
            "text/html": [
              "\n",
              "  <div id=\"df-12ab588b-1ad7-435f-a5b3-376e19eaa5d1\">\n",
              "    <div class=\"colab-df-container\">\n",
              "      <div>\n",
              "<style scoped>\n",
              "    .dataframe tbody tr th:only-of-type {\n",
              "        vertical-align: middle;\n",
              "    }\n",
              "\n",
              "    .dataframe tbody tr th {\n",
              "        vertical-align: top;\n",
              "    }\n",
              "\n",
              "    .dataframe thead th {\n",
              "        text-align: right;\n",
              "    }\n",
              "</style>\n",
              "<table border=\"1\" class=\"dataframe\">\n",
              "  <thead>\n",
              "    <tr style=\"text-align: right;\">\n",
              "      <th></th>\n",
              "      <th>TV</th>\n",
              "    </tr>\n",
              "  </thead>\n",
              "  <tbody>\n",
              "    <tr>\n",
              "      <th>0</th>\n",
              "      <td>230.1</td>\n",
              "    </tr>\n",
              "    <tr>\n",
              "      <th>1</th>\n",
              "      <td>44.5</td>\n",
              "    </tr>\n",
              "    <tr>\n",
              "      <th>2</th>\n",
              "      <td>17.2</td>\n",
              "    </tr>\n",
              "    <tr>\n",
              "      <th>3</th>\n",
              "      <td>151.5</td>\n",
              "    </tr>\n",
              "    <tr>\n",
              "      <th>4</th>\n",
              "      <td>180.8</td>\n",
              "    </tr>\n",
              "    <tr>\n",
              "      <th>...</th>\n",
              "      <td>...</td>\n",
              "    </tr>\n",
              "    <tr>\n",
              "      <th>195</th>\n",
              "      <td>38.2</td>\n",
              "    </tr>\n",
              "    <tr>\n",
              "      <th>196</th>\n",
              "      <td>94.2</td>\n",
              "    </tr>\n",
              "    <tr>\n",
              "      <th>197</th>\n",
              "      <td>177.0</td>\n",
              "    </tr>\n",
              "    <tr>\n",
              "      <th>198</th>\n",
              "      <td>283.6</td>\n",
              "    </tr>\n",
              "    <tr>\n",
              "      <th>199</th>\n",
              "      <td>232.1</td>\n",
              "    </tr>\n",
              "  </tbody>\n",
              "</table>\n",
              "<p>200 rows × 1 columns</p>\n",
              "</div>\n",
              "      <button class=\"colab-df-convert\" onclick=\"convertToInteractive('df-12ab588b-1ad7-435f-a5b3-376e19eaa5d1')\"\n",
              "              title=\"Convert this dataframe to an interactive table.\"\n",
              "              style=\"display:none;\">\n",
              "        \n",
              "  <svg xmlns=\"http://www.w3.org/2000/svg\" height=\"24px\"viewBox=\"0 0 24 24\"\n",
              "       width=\"24px\">\n",
              "    <path d=\"M0 0h24v24H0V0z\" fill=\"none\"/>\n",
              "    <path d=\"M18.56 5.44l.94 2.06.94-2.06 2.06-.94-2.06-.94-.94-2.06-.94 2.06-2.06.94zm-11 1L8.5 8.5l.94-2.06 2.06-.94-2.06-.94L8.5 2.5l-.94 2.06-2.06.94zm10 10l.94 2.06.94-2.06 2.06-.94-2.06-.94-.94-2.06-.94 2.06-2.06.94z\"/><path d=\"M17.41 7.96l-1.37-1.37c-.4-.4-.92-.59-1.43-.59-.52 0-1.04.2-1.43.59L10.3 9.45l-7.72 7.72c-.78.78-.78 2.05 0 2.83L4 21.41c.39.39.9.59 1.41.59.51 0 1.02-.2 1.41-.59l7.78-7.78 2.81-2.81c.8-.78.8-2.07 0-2.86zM5.41 20L4 18.59l7.72-7.72 1.47 1.35L5.41 20z\"/>\n",
              "  </svg>\n",
              "      </button>\n",
              "      \n",
              "  <style>\n",
              "    .colab-df-container {\n",
              "      display:flex;\n",
              "      flex-wrap:wrap;\n",
              "      gap: 12px;\n",
              "    }\n",
              "\n",
              "    .colab-df-convert {\n",
              "      background-color: #E8F0FE;\n",
              "      border: none;\n",
              "      border-radius: 50%;\n",
              "      cursor: pointer;\n",
              "      display: none;\n",
              "      fill: #1967D2;\n",
              "      height: 32px;\n",
              "      padding: 0 0 0 0;\n",
              "      width: 32px;\n",
              "    }\n",
              "\n",
              "    .colab-df-convert:hover {\n",
              "      background-color: #E2EBFA;\n",
              "      box-shadow: 0px 1px 2px rgba(60, 64, 67, 0.3), 0px 1px 3px 1px rgba(60, 64, 67, 0.15);\n",
              "      fill: #174EA6;\n",
              "    }\n",
              "\n",
              "    [theme=dark] .colab-df-convert {\n",
              "      background-color: #3B4455;\n",
              "      fill: #D2E3FC;\n",
              "    }\n",
              "\n",
              "    [theme=dark] .colab-df-convert:hover {\n",
              "      background-color: #434B5C;\n",
              "      box-shadow: 0px 1px 3px 1px rgba(0, 0, 0, 0.15);\n",
              "      filter: drop-shadow(0px 1px 2px rgba(0, 0, 0, 0.3));\n",
              "      fill: #FFFFFF;\n",
              "    }\n",
              "  </style>\n",
              "\n",
              "      <script>\n",
              "        const buttonEl =\n",
              "          document.querySelector('#df-12ab588b-1ad7-435f-a5b3-376e19eaa5d1 button.colab-df-convert');\n",
              "        buttonEl.style.display =\n",
              "          google.colab.kernel.accessAllowed ? 'block' : 'none';\n",
              "\n",
              "        async function convertToInteractive(key) {\n",
              "          const element = document.querySelector('#df-12ab588b-1ad7-435f-a5b3-376e19eaa5d1');\n",
              "          const dataTable =\n",
              "            await google.colab.kernel.invokeFunction('convertToInteractive',\n",
              "                                                     [key], {});\n",
              "          if (!dataTable) return;\n",
              "\n",
              "          const docLinkHtml = 'Like what you see? Visit the ' +\n",
              "            '<a target=\"_blank\" href=https://colab.research.google.com/notebooks/data_table.ipynb>data table notebook</a>'\n",
              "            + ' to learn more about interactive tables.';\n",
              "          element.innerHTML = '';\n",
              "          dataTable['output_type'] = 'display_data';\n",
              "          await google.colab.output.renderOutput(dataTable, element);\n",
              "          const docLink = document.createElement('div');\n",
              "          docLink.innerHTML = docLinkHtml;\n",
              "          element.appendChild(docLink);\n",
              "        }\n",
              "      </script>\n",
              "    </div>\n",
              "  </div>\n",
              "  "
            ],
            "text/plain": [
              "        TV\n",
              "0    230.1\n",
              "1     44.5\n",
              "2     17.2\n",
              "3    151.5\n",
              "4    180.8\n",
              "..     ...\n",
              "195   38.2\n",
              "196   94.2\n",
              "197  177.0\n",
              "198  283.6\n",
              "199  232.1\n",
              "\n",
              "[200 rows x 1 columns]"
            ]
          },
          "metadata": {},
          "execution_count": 26
        }
      ]
    },
    {
      "cell_type": "markdown",
      "metadata": {
        "id": "3OFVqnw50w60"
      },
      "source": [
        "## Visual exploratory data analysis\n",
        "\n",
        "Visualize the relationship between X and y by plotting a scatterplot between X and y."
      ]
    },
    {
      "cell_type": "markdown",
      "metadata": {
        "id": "tPwMrIRJ16Wo"
      },
      "source": [
        "Reference : https://youtu.be/WvbLLNZyvrM"
      ]
    },
    {
      "cell_type": "markdown",
      "metadata": {
        "id": "9sdsO7Ec0w61"
      },
      "source": [
        "<p style='text-align: right;'> 2 points</p>\n"
      ]
    },
    {
      "cell_type": "code",
      "metadata": {
        "id": "hyBZWZ590w61",
        "outputId": "475d9546-bc60-44a3-dc15-9ca237a2bde0",
        "colab": {
          "base_uri": "https://localhost:8080/",
          "height": 283
        }
      },
      "source": [
        "# Plot scatter plot between X and y\n",
        "plt.scatter( data= df, x='TV',y='Sales')\n"
      ],
      "execution_count": 16,
      "outputs": [
        {
          "output_type": "execute_result",
          "data": {
            "text/plain": [
              "<matplotlib.collections.PathCollection at 0x7f6591f35490>"
            ]
          },
          "metadata": {},
          "execution_count": 16
        },
        {
          "output_type": "display_data",
          "data": {
            "image/png": "[encoded data removed]",
            "text/plain": [
              "<Figure size 432x288 with 1 Axes>"
            ]
          },
          "metadata": {
            "needs_background": "light"
          }
        }
      ]
    },
    {
      "cell_type": "markdown",
      "metadata": {
        "id": "FwpDJPUb0w62"
      },
      "source": [
        "Hey buddy! did you notice ? the above graph shows some sort of relationship between sales and TV. Don't you think this shows positive linear relation? i.e when As TV's value increases sales increases ans same is vise-versa."
      ]
    },
    {
      "cell_type": "markdown",
      "metadata": {
        "id": "XtMij8fT0w62"
      },
      "source": [
        "# Visualising Data Using Seaborn\n"
      ]
    },
    {
      "cell_type": "markdown",
      "metadata": {
        "id": "xelLuLmL0w63"
      },
      "source": [
        "<p style='text-align: right;'> 2*2=4 points</p>\n"
      ]
    },
    {
      "cell_type": "code",
      "metadata": {
        "id": "kVFCSqbX0w63",
        "outputId": "07fb3353-a9e6-4c72-9514-c4b9d60d6406",
        "colab": {
          "base_uri": "https://localhost:8080/",
          "height": 670
        }
      },
      "source": [
        "# Visualise the relationship between the features and the response using scatterplots\n",
        "\n",
        "sns.scatterplot( data= df, x='TV',y='Sales')\n",
        "plt.title(\"Relationship between TV and Sales\")\n",
        "\n",
        "# plot a pairplot also for df\n",
        "\n",
        "sns.pairplot(df)\n"
      ],
      "execution_count": 17,
      "outputs": [
        {
          "output_type": "execute_result",
          "data": {
            "text/plain": [
              "<seaborn.axisgrid.PairGrid at 0x7f6591785110>"
            ]
          },
          "metadata": {},
          "execution_count": 17
        },
        {
          "output_type": "display_data",
          "data": {
            "image/png": "[encoded data removed]",
            "text/plain": [
              "<Figure size 432x288 with 1 Axes>"
            ]
          },
          "metadata": {
            "needs_background": "light"
          }
        },
        {
          "output_type": "display_data",
          "data": {
            "image/png": "[encoded data removed]",
            "text/plain": [
              "<Figure size 360x360 with 6 Axes>"
            ]
          },
          "metadata": {
            "needs_background": "light"
          }
        }
      ]
    },
    {
      "cell_type": "markdown",
      "metadata": {
        "id": "JmVFYdgN0w64"
      },
      "source": [
        "Ohoo! We can see very well that you have done good practice of Visualisation in your EDA assignment. Anyways the above graph also shows positive linear relation between both TV and Sales."
      ]
    },
    {
      "cell_type": "markdown",
      "metadata": {
        "id": "m8blklSa0w64"
      },
      "source": [
        "## Checking dimensions of X and y\n",
        "\n",
        "We need to check the dimensions of X and y to make sure they are in right format for Scikit-Learn API. \n"
      ]
    },
    {
      "cell_type": "markdown",
      "metadata": {
        "id": "cB0p3CnQ3Onc"
      },
      "source": [
        "refrence - https://youtu.be/2un1b7EEBwc"
      ]
    },
    {
      "cell_type": "markdown",
      "metadata": {
        "id": "HSkxTq0_0w64"
      },
      "source": [
        "<p style='text-align: right;'> 2points</p>\n"
      ]
    },
    {
      "cell_type": "code",
      "metadata": {
        "id": "oXyXjoU40w65",
        "outputId": "caa17a13-0da8-4546-92e6-8b85bd50ee39",
        "colab": {
          "base_uri": "https://localhost:8080/"
        }
      },
      "source": [
        "# Print the dimensions of X and y\n",
        "print(X.shape)\n",
        "print(Y.shape)"
      ],
      "execution_count": 37,
      "outputs": [
        {
          "output_type": "stream",
          "name": "stdout",
          "text": [
            "(200, 1)\n",
            "(200, 1)\n"
          ]
        }
      ]
    },
    {
      "cell_type": "markdown",
      "metadata": {
        "id": "kzJHXYXU0w65"
      },
      "source": [
        "## Reshaping X and y\n",
        "\n",
        "Since we are working with only one feature variable, so we need to reshape using Numpy reshape() method.\n",
        "\n",
        "E.g, If you have an array of shape (3,2) then reshaping it with (-1, 1), then the array will get reshaped in such a way that the resulting array has only 1 column and this is only possible by having 6 rows, hence, (6,1)\n",
        "\n",
        "You have seen the above example. Now you smarty! try reshaping on your data."
      ]
    },
    {
      "cell_type": "markdown",
      "metadata": {
        "id": "2n7gzHKw0w65"
      },
      "source": [
        "<p style='text-align: right;'> 2*2 = 4 points</p>\n"
      ]
    },
    {
      "cell_type": "code",
      "metadata": {
        "id": "woSt4Hie0w66"
      },
      "source": [
        "# Reshape X and y\n",
        "X=X.values.reshape(-1,1)\n",
        "Y=Y.values.reshape(-1,1)\n"
      ],
      "execution_count": 38,
      "outputs": []
    },
    {
      "cell_type": "code",
      "metadata": {
        "id": "ijkBI1pd0w66",
        "outputId": "f515952a-ae01-447b-daa8-35aa79f5fca1",
        "colab": {
          "base_uri": "https://localhost:8080/"
        }
      },
      "source": [
        "# Print the dimensions of X and y after reshaping\n",
        "print(X.shape)\n",
        "print(Y.shape)"
      ],
      "execution_count": 39,
      "outputs": [
        {
          "output_type": "stream",
          "name": "stdout",
          "text": [
            "(200, 1)\n",
            "(200, 1)\n"
          ]
        }
      ]
    },
    {
      "cell_type": "markdown",
      "metadata": {
        "id": "AzYKorxH0w67"
      },
      "source": [
        "Cool right!\n",
        "\n",
        "## Difference in dimensions of X and y after reshaping\n",
        "\n",
        "\n",
        "Hey Intellipants! You can see the difference in diminsions of X and y before and after reshaping.\n",
        "\n",
        "It is essential in this case because getting the feature and target variable right is an important precursor to model building."
      ]
    },
    {
      "cell_type": "markdown",
      "metadata": {
        "id": "eu2rwYp30w67"
      },
      "source": [
        "# Performing Simple Linear Regression"
      ]
    },
    {
      "cell_type": "markdown",
      "metadata": {
        "id": "YcHNU5A70w68"
      },
      "source": [
        "Equation of linear regression<br>\n",
        "$y = c + m_1x_1 + m_2x_2 + ... + m_nx_n$\n",
        "\n",
        "-  $y$ is the response\n",
        "-  $c$ is the intercept\n",
        "-  $m_1$ is the coefficient for the first feature\n",
        "-  $m_n$ is the coefficient for the nth feature<br>\n",
        "\n",
        "In our case:\n",
        "\n",
        "$y = c + m_1 \\times TV$\n",
        "\n",
        "The $m$ values are called the model **coefficients** or **model parameters**.\n",
        "\n",
        "Reference - https://youtu.be/Jx_I4GLXLys"
      ]
    },
    {
      "cell_type": "markdown",
      "metadata": {
        "id": "Vbjau4Jr0w68"
      },
      "source": [
        "## Mechanics of the model\n",
        "\n",
        "Hey! before you read further, it is good to understand the generic structure of modeling using the scikit-learn library. Broadly, the steps to build any model can be divided as follows: \n",
        "\n",
        "Split the dataset into two sets – the training set and the test set. Then, instantiate the regressor lm and fit it on the training set with the fit method. \n",
        "\n",
        "In this step, the model learned the relationships between the training data (X_train, y_train). \n",
        "\n",
        "Oh Yeah! Now the model is ready to make predictions on the test data (X_test). Hence, predict on the test data using the predict method. \n"
      ]
    },
    {
      "cell_type": "markdown",
      "metadata": {
        "id": "Dn0U6gfR0w68"
      },
      "source": [
        "The steps are as follow:"
      ]
    },
    {
      "cell_type": "markdown",
      "metadata": {
        "id": "qdAcHz9h0w69"
      },
      "source": [
        "## Train test split\n",
        "\n",
        "\n",
        "Split the dataset into two sets namely - train set and test set.\n",
        "\n",
        "The model learn the relationships from the training data and predict on test data.\n"
      ]
    },
    {
      "cell_type": "markdown",
      "metadata": {
        "id": "v6TMScHC0w69"
      },
      "source": [
        "Hey Smartypants!! It's absolutely fine if you didn't understand the theory well! We are here to help you make comfortable with all the concepts slowly as we proceeds towards our upcoming assignments.\n",
        "\n",
        "No fear when AI_4_All is here :)\n",
        "\n",
        "<p style='text-align: right;'> 2+2+3=7 points</p>\n"
      ]
    },
    {
      "cell_type": "code",
      "metadata": {
        "id": "zrAhs1ZP0w69"
      },
      "source": [
        "# import train_test_split module\n",
        "from sklearn.model_selection import train_test_split\n",
        "\n",
        "# Split X and y into training and test data sets with test_size=0.3 and random_state=42\n",
        "X_train , X_test, Y_train , Y_test = train_test_split (X,Y, test_size = 0.3, random_state = 42)\n",
        "\n"
      ],
      "execution_count": 40,
      "outputs": []
    },
    {
      "cell_type": "code",
      "metadata": {
        "id": "wY_yTydL0w6-",
        "outputId": "61aa1ca2-ed9c-4abf-8417-287037bd0d59",
        "colab": {
          "base_uri": "https://localhost:8080/"
        }
      },
      "source": [
        "# print shapes of X_train,y_train, X_test, y_test\n",
        "print(X_train.shape)\n",
        "print(Y_train.shape)\n",
        "print(X_test.shape)\n",
        "print(Y_test.shape)"
      ],
      "execution_count": 41,
      "outputs": [
        {
          "output_type": "stream",
          "name": "stdout",
          "text": [
            "(140, 1)\n",
            "(140, 1)\n",
            "(60, 1)\n",
            "(60, 1)\n"
          ]
        }
      ]
    },
    {
      "cell_type": "code",
      "metadata": {
        "id": "64vAbhuo0w6_"
      },
      "source": [
        "# import LinearRegression module\n",
        "from sklearn.linear_model import LinearRegression\n",
        "\n",
        "\n",
        "# Instantiate the linear regression object lm\n",
        "lm = LinearRegression()\n",
        "\n",
        "\n",
        "# Fit and train the model using training data sets\n",
        "lm.fit(X_train,Y_train)\n",
        "\n",
        "\n",
        "# Predict on the test data\n",
        "Y_Pred = lm.predict(X_test)\n",
        "\n"
      ],
      "execution_count": 42,
      "outputs": []
    },
    {
      "cell_type": "markdown",
      "metadata": {
        "id": "Qk4E0qNe0w6_"
      },
      "source": [
        "## Model slope and intercept term\n",
        "\n",
        "The model slope is given by lm.coef_ and model intercept term is given by lm.intercept_. \n",
        "\n",
        "for example. if the estimated model slope and intercept values are 1.60509347 and  -11.16003616.\n",
        "\n",
        "So, the equation of the fitted regression line will be:-\n",
        "\n",
        "y = 1.60509347 * x - 11.16003616  \n",
        "\n"
      ]
    },
    {
      "cell_type": "markdown",
      "metadata": {
        "id": "Y1dgV7Cj0w6_"
      },
      "source": [
        "<p style='text-align: right;'> 2 points</p>\n"
      ]
    },
    {
      "cell_type": "code",
      "metadata": {
        "id": "yIiIxFkM0w7A",
        "outputId": "7993d87f-64d4-4408-b8b0-a54c365469ab",
        "colab": {
          "base_uri": "https://localhost:8080/"
        }
      },
      "source": [
        "# Compute model slope and intercept\n",
        "print(\"Estimated model slope, a: \", lm.coef_)\n",
        "print(\"Estimated model intercept, b: \", lm.intercept_)\n"
      ],
      "execution_count": 43,
      "outputs": [
        {
          "output_type": "stream",
          "name": "stdout",
          "text": [
            "Estimated model slope, a:  [[0.05483488]]\n",
            "Estimated model intercept, b:  [7.20655455]\n"
          ]
        }
      ]
    },
    {
      "cell_type": "code",
      "metadata": {
        "id": "P-yLbbB90w7B"
      },
      "source": [
        "# So comment below, our fitted regression line here is ?\n",
        "\n",
        "#y =  0.05483488 * x - 7.20655455\n",
        "\n"
      ],
      "execution_count": null,
      "outputs": []
    },
    {
      "cell_type": "markdown",
      "metadata": {
        "id": "yR7zn9ch0w7B"
      },
      "source": [
        "That is our linear model. Wohoo! Awesome job done! \n",
        "\n",
        "## Making predictions\n",
        "\n",
        "\n",
        "To make prediction, on an individual TV value, \n",
        "\n",
        "\n",
        "\t\tlm.predict(Xi)\n",
        "        \n",
        "\n",
        "where Xi is the TV data value of the ith observation.\n",
        "\n"
      ]
    },
    {
      "cell_type": "markdown",
      "metadata": {
        "id": "vNRFt3hj0w7B"
      },
      "source": [
        "<p style='text-align: right;'> 2 points</p>\n"
      ]
    },
    {
      "cell_type": "code",
      "metadata": {
        "id": "Jxlt9qZS0w7C",
        "outputId": "611d0b60-55d6-400b-f70e-23f6e4e839af",
        "colab": {
          "base_uri": "https://localhost:8080/"
        }
      },
      "source": [
        "# Predicting Sales values on first five 5 TV  datasets only\n",
        "\n",
        "lm.predict(X[:5])"
      ],
      "execution_count": 46,
      "outputs": [
        {
          "output_type": "execute_result",
          "data": {
            "text/plain": [
              "array([[19.82406131],\n",
              "       [ 9.64670688],\n",
              "       [ 8.14971455],\n",
              "       [15.51403944],\n",
              "       [17.12070154]])"
            ]
          },
          "metadata": {},
          "execution_count": 46
        }
      ]
    },
    {
      "cell_type": "markdown",
      "metadata": {
        "id": "ve_h8Xkp0w7C"
      },
      "source": [
        "We know that you can also do prediction for all values of TV available in our dataset\n",
        "\n",
        "Can you show it now?\n",
        "\n"
      ]
    },
    {
      "cell_type": "code",
      "metadata": {
        "id": "72qNKVrN0w7D",
        "outputId": "d94dd4c6-2422-4d32-8053-cc65139c1aca",
        "colab": {
          "base_uri": "https://localhost:8080/"
        }
      },
      "source": [
        "# prediction for all X present in the dataset\n",
        "lm.predict(X)"
      ],
      "execution_count": 47,
      "outputs": [
        {
          "output_type": "execute_result",
          "data": {
            "text/plain": [
              "array([[19.82406131],\n",
              "       [ 9.64670688],\n",
              "       [ 8.14971455],\n",
              "       [15.51403944],\n",
              "       [17.12070154],\n",
              "       [ 7.68361804],\n",
              "       [10.35956037],\n",
              "       [13.79770758],\n",
              "       [ 7.67813455],\n",
              "       [18.16256433],\n",
              "       [10.83114037],\n",
              "       [18.9796041 ],\n",
              "       [ 8.51162478],\n",
              "       [12.55295572],\n",
              "       [18.39835433],\n",
              "       [17.92129084],\n",
              "       [10.92435967],\n",
              "       [22.63709085],\n",
              "       [11.00112851],\n",
              "       [15.28373293],\n",
              "       [19.18249317],\n",
              "       [20.22435596],\n",
              "       [ 7.93037501],\n",
              "       [19.72535852],\n",
              "       [10.62276781],\n",
              "       [21.6226455 ],\n",
              "       [15.04245944],\n",
              "       [20.37241015],\n",
              "       [20.84947364],\n",
              "       [11.07789734],\n",
              "       [23.26769201],\n",
              "       [13.39741293],\n",
              "       [12.53650525],\n",
              "       [21.77069968],\n",
              "       [12.45425293],\n",
              "       [23.14705527],\n",
              "       [21.84198503],\n",
              "       [11.30272037],\n",
              "       [ 9.56993804],\n",
              "       [19.70890805],\n",
              "       [18.31061852],\n",
              "       [16.91232898],\n",
              "       [23.30607643],\n",
              "       [18.55189201],\n",
              "       [ 8.58291013],\n",
              "       [16.8081427 ],\n",
              "       [12.12524362],\n",
              "       [20.36144317],\n",
              "       [19.66504015],\n",
              "       [10.87500827],\n",
              "       [18.16256433],\n",
              "       [12.71197688],\n",
              "       [19.0728234 ],\n",
              "       [17.21940433],\n",
              "       [21.61167852],\n",
              "       [18.11321294],\n",
              "       [ 7.6068492 ],\n",
              "       [14.67506572],\n",
              "       [18.76574805],\n",
              "       [18.76026456],\n",
              "       [10.14022083],\n",
              "       [21.53490968],\n",
              "       [20.32854224],\n",
              "       [12.83809711],\n",
              "       [14.39540781],\n",
              "       [10.99016153],\n",
              "       [ 8.93385339],\n",
              "       [14.84505386],\n",
              "       [20.22435596],\n",
              "       [19.09475735],\n",
              "       [18.12417991],\n",
              "       [13.22742479],\n",
              "       [ 8.67612943],\n",
              "       [14.30218851],\n",
              "       [18.90831875],\n",
              "       [ 8.13326408],\n",
              "       [ 8.71451385],\n",
              "       [13.81415805],\n",
              "       [ 7.50266292],\n",
              "       [13.56740107],\n",
              "       [11.39593967],\n",
              "       [20.35595968],\n",
              "       [11.3356213 ],\n",
              "       [10.9572606 ],\n",
              "       [18.91380224],\n",
              "       [17.8006541 ],\n",
              "       [11.39045618],\n",
              "       [13.27677618],\n",
              "       [12.04847479],\n",
              "       [13.22742479],\n",
              "       [14.57087944],\n",
              "       [ 8.77483222],\n",
              "       [19.14410875],\n",
              "       [20.96462689],\n",
              "       [13.09582107],\n",
              "       [16.16109107],\n",
              "       [18.04192759],\n",
              "       [17.34552456],\n",
              "       [23.09222038],\n",
              "       [14.62023084],\n",
              "       [19.4018327 ],\n",
              "       [23.45961411],\n",
              "       [22.57128899],\n",
              "       [17.51002921],\n",
              "       [20.26822387],\n",
              "       [14.76828502],\n",
              "       [ 8.57742664],\n",
              "       [12.16362804],\n",
              "       [ 7.92489153],\n",
              "       [21.21138387],\n",
              "       [19.58827131],\n",
              "       [20.46014596],\n",
              "       [16.84104363],\n",
              "       [18.69994619],\n",
              "       [11.49464246],\n",
              "       [11.32465432],\n",
              "       [14.83957037],\n",
              "       [11.39593967],\n",
              "       [14.09929944],\n",
              "       [ 8.27035129],\n",
              "       [14.95472363],\n",
              "       [ 8.23745036],\n",
              "       [19.48956852],\n",
              "       [13.95672874],\n",
              "       [19.79116038],\n",
              "       [11.98815642],\n",
              "       [ 7.63426664],\n",
              "       [11.60431223],\n",
              "       [19.28667945],\n",
              "       [10.47471362],\n",
              "       [ 7.24493897],\n",
              "       [21.74876573],\n",
              "       [ 7.66716757],\n",
              "       [19.25926201],\n",
              "       [ 9.22996176],\n",
              "       [ 9.85507944],\n",
              "       [ 8.61032757],\n",
              "       [22.21486224],\n",
              "       [ 9.56445455],\n",
              "       [17.34552456],\n",
              "       [11.23143502],\n",
              "       [17.82807154],\n",
              "       [19.29764643],\n",
              "       [12.94228339],\n",
              "       [12.48167037],\n",
              "       [14.89988874],\n",
              "       [20.37241015],\n",
              "       [20.54239829],\n",
              "       [ 9.29028013],\n",
              "       [ 9.65767385],\n",
              "       [22.59870643],\n",
              "       [13.84157549],\n",
              "       [18.04192759],\n",
              "       [16.59977014],\n",
              "       [17.50454572],\n",
              "       [ 7.43137757],\n",
              "       [12.35555014],\n",
              "       [15.42082014],\n",
              "       [ 7.84812269],\n",
              "       [14.42830874],\n",
              "       [16.665572  ],\n",
              "       [11.90590409],\n",
              "       [17.53744666],\n",
              "       [16.17205805],\n",
              "       [13.63320293],\n",
              "       [20.0653348 ],\n",
              "       [ 8.18809897],\n",
              "       [18.54640852],\n",
              "       [19.01798852],\n",
              "       [22.79611201],\n",
              "       [ 9.94829874],\n",
              "       [16.22689293],\n",
              "       [ 8.28131827],\n",
              "       [16.44074898],\n",
              "       [19.4018327 ],\n",
              "       [22.39033387],\n",
              "       [20.82753968],\n",
              "       [16.53945177],\n",
              "       [22.37936689],\n",
              "       [16.2872113 ],\n",
              "       [15.79369735],\n",
              "       [19.18797666],\n",
              "       [10.28827502],\n",
              "       [22.97706713],\n",
              "       [21.12364806],\n",
              "       [18.44770573],\n",
              "       [14.85602084],\n",
              "       [17.68550084],\n",
              "       [22.88933131],\n",
              "       [ 8.23196688],\n",
              "       [ 9.37253246],\n",
              "       [11.34658827],\n",
              "       [ 8.14971455],\n",
              "       [16.35301317],\n",
              "       [15.41533665],\n",
              "       [ 9.30124711],\n",
              "       [12.3720006 ],\n",
              "       [16.91232898],\n",
              "       [22.75772759],\n",
              "       [19.93373108]])"
            ]
          },
          "metadata": {},
          "execution_count": 47
        }
      ]
    },
    {
      "cell_type": "markdown",
      "metadata": {
        "id": "30wlIjQe0w7D"
      },
      "source": [
        "## Regression metrics for model performance\n",
        "\n",
        "\n",
        "Now, it is the time to evaluate model performance. \n",
        "\n",
        "For regression problems, there are two ways to compute the model performance. They are RMSE (Root Mean Square Error) and R-Squared Value. These are explained below:-  \n",
        "\n",
        "\n",
        "### RMSE\n",
        "\n",
        "    RMSE is the standard deviation of the residuals. So, RMSE gives us the standard deviation of the unexplained variance by the model. It can be calculated by taking square root of Mean Squared Error.\n",
        "    RMSE is an absolute measure of fit. It gives us how spread the residuals are, given by the standard deviation of the residuals. The more concentrated the data is around the regression line, the lower the residuals and hence lower the standard deviation of residuals. It results in lower values of RMSE. So, lower values of RMSE indicate better fit of data. \n",
        "\n",
        "Formula:\n",
        "![image.png](attachment:image.png)\n",
        "\n"
      ]
    },
    {
      "cell_type": "markdown",
      "metadata": {
        "id": "063BZSjx0w7E"
      },
      "source": [
        "### R-Squared\n",
        "\n",
        "    (R2) Correlation explains the strength of the relationship between an independent and dependent variable,whereas R-square explains to what extent the variance of one variable explains the variance of the second variable. Hence It may also be known as the coefficient of determination.\n",
        "    So, if the R2 of a model is 0.50, then approximately half of the observed variation can be explained by the model's inputs.\n",
        "    In general, the higher the R2 Score value, the better the model fits the data. Usually, its value ranges from 0 to 1. So, we want its value to be as close to 1. Its value can become negative if our model is wrong.\n",
        "\n",
        "Fomula:\n",
        "\n",
        "![image.png](attachment:image.png)"
      ]
    },
    {
      "cell_type": "markdown",
      "metadata": {
        "id": "qNLjtnKa0w7E"
      },
      "source": [
        "<p style='text-align: right;'> 2*2 = 4 points</p>\n"
      ]
    },
    {
      "cell_type": "markdown",
      "metadata": {
        "id": "uBVkLw9a0w7F"
      },
      "source": [
        "Reference:\n",
        "https://youtu.be/PnOyLeekPVE"
      ]
    },
    {
      "cell_type": "code",
      "metadata": {
        "id": "wPizGGd40w7F",
        "outputId": "4f4e35fd-be7d-4b9b-a87d-26d7783f3484",
        "colab": {
          "base_uri": "https://localhost:8080/"
        }
      },
      "source": [
        "# import mean_squared_error module\n",
        "from sklearn.metrics import mean_squared_error\n",
        "\n",
        "# Calculate and print Root Mean Square Error(RMSE)\n",
        "rmse = mean_squared_error(Y_test, Y_Pred)**0.5\n",
        "round(rmse,4)"
      ],
      "execution_count": 52,
      "outputs": [
        {
          "output_type": "execute_result",
          "data": {
            "text/plain": [
              "2.2759"
            ]
          },
          "metadata": {},
          "execution_count": 52
        }
      ]
    },
    {
      "cell_type": "code",
      "metadata": {
        "id": "OkBaULeR0w7G",
        "outputId": "9f0b56e3-4446-4e3c-d659-a87bae3b8b59",
        "colab": {
          "base_uri": "https://localhost:8080/"
        }
      },
      "source": [
        "# import r2_score module\n",
        "from sklearn.metrics import r2_score\n",
        "\n",
        "# Calculate and print r2_score\n",
        "print(\"R2 Score value: \", r2_score(Y_test, Y_Pred))\n"
      ],
      "execution_count": 61,
      "outputs": [
        {
          "output_type": "stream",
          "name": "stdout",
          "text": [
            "R2 Score value:  0.814855389208679\n"
          ]
        }
      ]
    },
    {
      "cell_type": "markdown",
      "metadata": {
        "id": "ejj56c2l0w7G"
      },
      "source": [
        "## Interpretation and Conclusion\n",
        "\n",
        "\n",
        "The RMSE value has been found to be  2.2759. It means the standard deviation for our prediction is  2.2759. which is quite less. Sometimes we can also expect the RMSE to be less than  2.2759. So, the model is good fit to the data. \n",
        "\n",
        "\n",
        "In business decisions, the benchmark for the R2 score value is 0.7. It means if R2 score value >= 0.7, then the model is good enough to deploy on unseen data whereas if R2 score value < 0.7, then the model is not good enough to deploy. Our R2 score value has been found to be  0.8149. It means that this model explains  81.49 % of the variance in our dependent variable. So, the R2 score value confirms that the model is good enough to deploy because it provides good fit to the data.\n",
        "\n",
        "Wohoo! Really good job done!"
      ]
    },
    {
      "cell_type": "markdown",
      "metadata": {
        "id": "DHqNSZCa0w7G"
      },
      "source": [
        "<p style='text-align: right;'> 2 points</p>\n",
        "\n",
        "Reference: https://www.youtube.com/watch?v=b0L47BeklTE"
      ]
    },
    {
      "cell_type": "code",
      "metadata": {
        "id": "kwl1ogBP0w7H",
        "outputId": "c54f9fa4-dd55-480f-d724-81f4d66841c5",
        "colab": {
          "base_uri": "https://localhost:8080/",
          "height": 283
        }
      },
      "source": [
        "# Plot the Regression Line between X and Y as shown in below output.\n",
        "plt.plot (X_test, Y_Pred, label='Regression Line', color = '#000000')\n",
        "plt.scatter (X_test, Y_test, label = \"Scatter Plot\", color='b')\n",
        "plt.legend()\n"
      ],
      "execution_count": 65,
      "outputs": [
        {
          "output_type": "execute_result",
          "data": {
            "text/plain": [
              "<matplotlib.legend.Legend at 0x7f658dacefd0>"
            ]
          },
          "metadata": {},
          "execution_count": 65
        },
        {
          "output_type": "display_data",
          "data": {
            "image/png": "[encoded data removed]",
            "text/plain": [
              "<Figure size 432x288 with 1 Axes>"
            ]
          },
          "metadata": {
            "needs_background": "light"
          }
        }
      ]
    },
    {
      "cell_type": "markdown",
      "metadata": {
        "id": "Ge242Pn40w7H"
      },
      "source": [
        "As you can see above, the regression line fits the data quite well. Wow!"
      ]
    },
    {
      "cell_type": "markdown",
      "metadata": {
        "id": "fhx6QCSt0w7I"
      },
      "source": [
        "## Residual analysis\n",
        "\n",
        "Reference:https://youtu.be/OrWCtouG5jo\n",
        " \n",
        "\n",
        "A linear regression model may not represent the data appropriately. The model may be a poor fit to the data. So, we should validate our model by defining and examining residual plots.\n",
        "\n",
        "The difference between the observed value of the dependent variable (y) and the predicted value (ŷi) is called the residual and is denoted by e or error. The scatter-plot of these residuals is called residual plot.\n",
        "\n",
        "If the data points in a residual plot are randomly dispersed around horizontal axis and an approximate zero residual mean, a linear regression model may be appropriate for the data. Otherwise a non-linear model may be more appropriate.\n",
        "\n",
        "If we take a look at the generated ‘Residual errors’ plot, we can clearly see that the train data plot pattern is non-random. Same is the case with the test data plot pattern.\n",
        "So, it suggests a better-fit for a non-linear model. \n",
        "\n"
      ]
    },
    {
      "cell_type": "markdown",
      "metadata": {
        "id": "HJYS1qE30w7I"
      },
      "source": [
        "<p style='text-align: right;'> 2 points</p>\n"
      ]
    },
    {
      "cell_type": "code",
      "metadata": {
        "id": "spZn5khg0w7I",
        "outputId": "9f7c0e5c-022e-4fa9-b2dc-de58f2b1f169",
        "colab": {
          "base_uri": "https://localhost:8080/",
          "height": 283
        }
      },
      "source": [
        "# Plotting residual errors\n",
        "Y_train_pred = lm.predict(X_train)\n",
        "train_resi = Y_train_pred - Y_train\n",
        "\n",
        "Y_test_pred = lm.predict(X_test)\n",
        "test_resi = Y_test_pred - Y_test\n",
        "\n",
        "plt.scatter( Y_train_pred , train_resi , color = 'r')\n",
        "plt.scatter( Y_test_pred , test_resi , color = 'b')\n",
        "plt.xlim(left= 0, right=50)\n",
        "plt.axhline(y=0, linestyle='-')"
      ],
      "execution_count": 74,
      "outputs": [
        {
          "output_type": "execute_result",
          "data": {
            "text/plain": [
              "<matplotlib.lines.Line2D at 0x7f658d657950>"
            ]
          },
          "metadata": {},
          "execution_count": 74
        },
        {
          "output_type": "display_data",
          "data": {
            "image/png": "[encoded data removed]",
            "text/plain": [
              "<Figure size 432x288 with 1 Axes>"
            ]
          },
          "metadata": {
            "needs_background": "light"
          }
        }
      ]
    },
    {
      "cell_type": "markdown",
      "metadata": {
        "id": "OQ2eoTvZ0w7J"
      },
      "source": [
        "## Checking for Overfitting and Underfitting\n",
        "\n",
        "\n",
        "We will see training set score and test set score.\n",
        "\n",
        "You can excpect the training set score to be 0.7996, which is averagely good. So, the model learned the relationships quite appropriately from the training data. Thus, the model performs good on the test data as test score will be  0.8149. It is a clear sign of good fit/ balanced fit. Hence, we can validated our finding that the linear regression model provides good fit to the data. \n",
        "\n",
        "\n",
        "**Underfitting**: Your model is underfitting the training data when the model performs poorly on the training data. This is because the model is unable to capture the relationship between the input examples (often called X) and the target values (often called Y). \n",
        "\n",
        "**Overfitting**: Your model is overfitting your training data when you see that the model performs well on the training data but does not perform well on the evaluation data. This is because the model is memorizing the data it has seen and is unable to generalize to unseen examples.\n",
        "\n",
        "You see the difference visually as below:\n",
        "\n",
        "![image.png](attachment:image.png)\n"
      ]
    },
    {
      "cell_type": "markdown",
      "metadata": {
        "id": "DmnBhNft0w7J"
      },
      "source": [
        "<p style='text-align: right;'> 2 points</p>\n"
      ]
    },
    {
      "cell_type": "code",
      "metadata": {
        "id": "h5Xwwzgq0w7J",
        "outputId": "341e6e12-8e9b-411c-a53b-f16a4cc2ce60",
        "colab": {
          "base_uri": "https://localhost:8080/"
        }
      },
      "source": [
        "# Checking for Overfitting or Underfitting the data by calculation score using score function.\n",
        "print(\"Training set score:\", round(lm.score(X_train, Y_train),4))\n",
        "print(\"Test set score:\", round(lm.score(X_test,Y_test),4))"
      ],
      "execution_count": 77,
      "outputs": [
        {
          "output_type": "stream",
          "name": "stdout",
          "text": [
            "Training set score: 0.7996\n",
            "Test set score: 0.8149\n"
          ]
        }
      ]
    },
    {
      "cell_type": "markdown",
      "metadata": {
        "id": "cDh4j7yd0w7K"
      },
      "source": [
        "As you can see above that you have your simple linear model with train and test score close to each other, i.e your model is not overfitting or underfitting.\n",
        "But before we jump into any conclusion on this, it is always better to do cross validation, which will be introduced to you in your next assignment."
      ]
    },
    {
      "cell_type": "markdown",
      "metadata": {
        "id": "BEJUfkWG0w7P"
      },
      "source": [
        "## Simple Linear Regression - Model Assumptions\n",
        "\n",
        "Reference:- https://www.youtube.com/watch?v=rw84t7QU2O0\n",
        "\n",
        "The Linear Regression Model is based on several assumptions which are listed below:-\n",
        "\n",
        "i.\tLinear relationship\n",
        "ii.\tMultivariate normality\n",
        "iii.\tNo or little multicollinearity\n",
        "iv.\tNo auto-correlation\n",
        "v.\tHomoscedasticity\n",
        "\n",
        "\n",
        "### i.\tLinear relationship\n",
        "\n",
        "\n",
        "The relationship between response and feature variables should be linear. This linear relationship assumption can be tested by plotting a scatter-plot between response and feature variables.\n",
        "\n",
        "\n",
        "### ii.\tMultivariate normality\n",
        "\n",
        "The linear regression model requires all variables to be multivariate normal. A multivariate normal distribution means a vector in multiple normally distributed variables, where any linear combination of the variables is also normally distributed.\n",
        "\n",
        "\n",
        "### iii.\tNo or little multicollinearity\n",
        "\n",
        "It is assumed that there is little or no multicollinearity in the data. Multicollinearity occurs when the features (or independent variables) are highly correlated.\n",
        "\n",
        "\n",
        "### iv.\tNo auto-correlation\n",
        "\n",
        "Also, it is assumed that there is little or no auto-correlation in the data. Autocorrelation occurs when the residual errors are not independent from each other.\n",
        "\n",
        "\n",
        "### v.\tHomoscedasticity\n",
        "\n",
        "Homoscedasticity describes a situation in which the error term (that is, the noise in the model) is the same across all values of the independent variables. It means the residuals are same across the regression line. It can be checked by looking at scatter plot.\n"
      ]
    },
    {
      "cell_type": "markdown",
      "metadata": {
        "id": "clfLYBy10w7Q"
      },
      "source": [
        "#  Congratulations on building your first machine learning model! Smile please! :)\n"
      ]
    },
    {
      "cell_type": "markdown",
      "metadata": {
        "id": "I5qOJYxU0w7Q"
      },
      "source": [
        "# Its Feedback Time!\n",
        "\n",
        "We hope you’ve enjoyed this course so far. We’re committed to help you use \"AI for All\" course to its full potential, so that you have a great learning experience. And that’s why we need your help in form of a feedback here.\n",
        "\n",
        "**Please fill this feedback form**\n",
        " https://zfrmz.in/MtRG5oWXBdesm6rmSM7N"
      ]
    }
  ]
}